{
 "cells": [
  {
   "cell_type": "code",
   "execution_count": 1,
   "id": "b6579e08",
   "metadata": {},
   "outputs": [
    {
     "name": "stdout",
     "output_type": "stream",
     "text": [
      "0.41818181818181815\n",
      "1265\n",
      "23\n"
     ]
    }
   ],
   "source": [
    "num1=23\n",
    "num2=55\n",
    "print(num1/num2)\n",
    "print(num1*num2)\n",
    "print(num1%num2)"
   ]
  },
  {
   "cell_type": "code",
   "execution_count": null,
   "id": "c037c337",
   "metadata": {},
   "outputs": [],
   "source": []
  },
  {
   "cell_type": "code",
   "execution_count": 2,
   "id": "eba115e7",
   "metadata": {},
   "outputs": [
    {
     "name": "stdout",
     "output_type": "stream",
     "text": [
      "name,age,grade,gender\n"
     ]
    }
   ],
   "source": [
    "name=\"endiya\"\n",
    "age=16\n",
    "grade=11\n",
    "gender=(\"femal\")\n",
    "print(\"name,age,grade,gender\")"
   ]
  },
  {
   "cell_type": "code",
   "execution_count": 3,
   "id": "27ce0451",
   "metadata": {},
   "outputs": [
    {
     "name": "stdout",
     "output_type": "stream",
     "text": [
      "the number is even\n"
     ]
    }
   ],
   "source": [
    "x=10\n",
    "if x%2==0:\n",
    "    print (\"the number is even\")"
   ]
  },
  {
   "cell_type": "code",
   "execution_count": 9,
   "id": "0b91018e",
   "metadata": {},
   "outputs": [
    {
     "name": "stdout",
     "output_type": "stream",
     "text": [
      "standard calcuiator\n"
     ]
    },
    {
     "ename": "NameError",
     "evalue": "name 'exception' is not defined",
     "output_type": "error",
     "traceback": [
      "\u001b[31m---------------------------------------------------------------------------\u001b[39m",
      "\u001b[31mAttributeError\u001b[39m                            Traceback (most recent call last)",
      "\u001b[36mCell\u001b[39m\u001b[36m \u001b[39m\u001b[32mIn[9]\u001b[39m\u001b[32m, line 9\u001b[39m, in \u001b[36mcalculator\u001b[39m\u001b[34m()\u001b[39m\n\u001b[32m      8\u001b[39m op =\u001b[38;5;28minput\u001b[39m (\u001b[33m\"\u001b[39m\u001b[33mEnter the oprators [/,*,-,+,** and exit]\u001b[39m\u001b[33m\"\u001b[39m)\n\u001b[32m----> \u001b[39m\u001b[32m9\u001b[39m \u001b[38;5;28;01mif\u001b[39;00m \u001b[43mop\u001b[49m\u001b[43m.\u001b[49m\u001b[43mlower\u001b[49m\u001b[43m(\u001b[49m\u001b[43m)\u001b[49m\u001b[43m.\u001b[49m\u001b[43mstrp\u001b[49m() == \u001b[33m\"\u001b[39m\u001b[33mexit\u001b[39m\u001b[33m\"\u001b[39m:\n\u001b[32m     10\u001b[39m     \u001b[38;5;28;01mbreak\u001b[39;00m\n",
      "\u001b[31mAttributeError\u001b[39m: 'str' object has no attribute 'strp'",
      "\nDuring handling of the above exception, another exception occurred:\n",
      "\u001b[31mNameError\u001b[39m                                 Traceback (most recent call last)",
      "\u001b[36mCell\u001b[39m\u001b[36m \u001b[39m\u001b[32mIn[9]\u001b[39m\u001b[32m, line 67\u001b[39m\n\u001b[32m     65\u001b[39m         \u001b[38;5;28mprint\u001b[39m(\u001b[33mf\u001b[39m\u001b[33m\"\u001b[39m\u001b[33moperation failed! \u001b[39m\u001b[38;5;132;01m{\u001b[39;00me\u001b[38;5;132;01m}\u001b[39;00m\u001b[33m\"\u001b[39m)\n\u001b[32m     66\u001b[39m     \u001b[38;5;28mprint\u001b[39m(\u001b[33m\"\u001b[39m\u001b[33mDeveloped By: hafiza\u001b[39m\u001b[33m\"\u001b[39m)\n\u001b[32m---> \u001b[39m\u001b[32m67\u001b[39m \u001b[43mcalculator\u001b[49m\u001b[43m(\u001b[49m\u001b[43m)\u001b[49m\n",
      "\u001b[36mCell\u001b[39m\u001b[36m \u001b[39m\u001b[32mIn[9]\u001b[39m\u001b[32m, line 64\u001b[39m, in \u001b[36mcalculator\u001b[39m\u001b[34m()\u001b[39m\n\u001b[32m     62\u001b[39m                 result = result ** item\n\u001b[32m     63\u001b[39m             \u001b[38;5;28mprint\u001b[39m(\u001b[33m\"\u001b[39m\u001b[33m ** \u001b[39m\u001b[33m\"\u001b[39m.join(\u001b[38;5;28mmap\u001b[39m(\u001b[38;5;28mstr\u001b[39m, numbers)) + \u001b[33mf\u001b[39m\u001b[33m\"\u001b[39m\u001b[33m = \u001b[39m\u001b[38;5;132;01m{\u001b[39;00mresult\u001b[38;5;132;01m}\u001b[39;00m\u001b[33m\"\u001b[39m)\n\u001b[32m---> \u001b[39m\u001b[32m64\u001b[39m \u001b[38;5;28;01mexcept\u001b[39;00m \u001b[43mexception\u001b[49m \u001b[38;5;28;01mas\u001b[39;00m e:\n\u001b[32m     65\u001b[39m     \u001b[38;5;28mprint\u001b[39m(\u001b[33mf\u001b[39m\u001b[33m\"\u001b[39m\u001b[33moperation failed! \u001b[39m\u001b[38;5;132;01m{\u001b[39;00me\u001b[38;5;132;01m}\u001b[39;00m\u001b[33m\"\u001b[39m)\n\u001b[32m     66\u001b[39m \u001b[38;5;28mprint\u001b[39m(\u001b[33m\"\u001b[39m\u001b[33mDeveloped By: hafiza\u001b[39m\u001b[33m\"\u001b[39m)\n",
      "\u001b[31mNameError\u001b[39m: name 'exception' is not defined"
     ]
    }
   ],
   "source": [
    "from operator import itemgetter\n",
    "\n",
    "\n",
    "def calculator():\n",
    "    print(\"standard calcuiator\")\n",
    "    try:\n",
    "        while True:\n",
    "            op =input (\"Enter the oprators [/,*,-,+,** and exit]\")\n",
    "            if op.lower().strp() == \"exit\":\n",
    "                break\n",
    "            list-op [\"+\",\"-\", \"/\", \"**\",\"*\"]\n",
    "            if op not in list_op:\n",
    "                print(\"enter the correct operator\")\n",
    "                continue\n",
    "\n",
    "            number = []\n",
    "            while True:\n",
    "                number = input (\"please enter the numbers or = sign to calculator\")\n",
    "                if numbers == \"=\":\n",
    "                    if ien (numbers) <2:\n",
    "                        print(\"pleas enter at least 2 numbers\")\n",
    "                        continue\n",
    "                    break\n",
    "                try:\n",
    "                    num = float(numbers)\n",
    "                    numbers.append(num)\n",
    "                except ValueError:\n",
    "                    print(\"pleas enter only numbers\")\n",
    "                    continue\n",
    "            \"\"\" performing different arthimatic opreations\n",
    "            after performing arthimatic \n",
    "            opration we have to stor the result on some variable\"\"\"\n",
    "            if op == \"+\":\n",
    "                result =numbers[0]\n",
    "                for item in numbers[1:]:\n",
    "                    result = result + itemgetter\n",
    "                print(\" + \".join(map(str, numbers)) + f\" = {result}\")\n",
    "            elif op == \"*\":\n",
    "                result = numbers[0]\n",
    "                for item in numbers[1:]:\n",
    "                    result = result * item\n",
    "                print(\" * \".join(map(str, numbers)) + f\" = {result}\")\n",
    "            elif op == \"/\":\n",
    "                result = numbers[0]\n",
    "                for item in numbers[1:]:\n",
    "                    try:\n",
    "                        if item ==0:\n",
    "                            raise zeroDivisionError()\n",
    "                        result = result / item\n",
    "                    except ZeroDivisionError:\n",
    "                        print(\"Denominator can't be zero\")\n",
    "                        continue\n",
    "                print(\"/ \".join(map(str, numbers)) + f\" = {result}\")\n",
    "            elif  op == \"-\":\n",
    "                result = numbers[0]\n",
    "                for item in numbers[1:]:\n",
    "                    result = result - item\n",
    "                print(\" - \".join(map(str, numbers)) + f\" = {result}\")\n",
    "            elif  op == \"**\":\n",
    "                result = numbers[0]\n",
    "                for item in numbers[1:]:\n",
    "                    result = result ** item\n",
    "                print(\" ** \".join(map(str, numbers)) + f\" = {result}\")\n",
    "    except exception as e:\n",
    "        print(f\"operation failed! {e}\")\n",
    "    print(\"Developed By: hafiza\")\n",
    "calculator()"
   ]
  }
 ],
 "metadata": {
  "kernelspec": {
   "display_name": "Python 3",
   "language": "python",
   "name": "python3"
  },
  "language_info": {
   "codemirror_mode": {
    "name": "ipython",
    "version": 3
   },
   "file_extension": ".py",
   "mimetype": "text/x-python",
   "name": "python",
   "nbconvert_exporter": "python",
   "pygments_lexer": "ipython3",
   "version": "3.13.5"
  }
 },
 "nbformat": 4,
 "nbformat_minor": 5
}
